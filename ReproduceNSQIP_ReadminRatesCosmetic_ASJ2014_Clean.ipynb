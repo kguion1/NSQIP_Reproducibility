{
 "cells": [
  {
   "cell_type": "markdown",
   "id": "4f49e2ca",
   "metadata": {},
   "source": [
    "# NSQIP Reproducibility Project\n",
    "### Attempted Reproduction of \"A Comparative Analysis of Readmission Rates After Outpatient Cosmetic Surgery\" (Mioton et al, ASJ 2014)\n",
    "### DOI: 10.1177/1090820X13519796"
   ]
  },
  {
   "cell_type": "code",
   "execution_count": 1,
   "id": "6f1c8e7b",
   "metadata": {},
   "outputs": [],
   "source": [
    "import pandas as pd\n",
    "import matplotlib.pyplot as plt\n",
    "from matplotlib.ticker import PercentFormatter\n",
    "import seaborn as sns\n",
    "import numpy as np\n",
    "from scipy.stats import ttest_ind, chi2_contingency, fisher_exact\n",
    "import statsmodels.api as sm"
   ]
  },
  {
   "cell_type": "markdown",
   "id": "1135dc7b",
   "metadata": {},
   "source": [
    "## *Excerpt from Methods (Mioton et al.)*\n",
    "\n",
    "### Study Population\n",
    "A review of the 2011 NSQIP data set was performed for all patients with “Plastics” recorded as their surgical specialty. Current Procedural Terminology (CPT) codes correlating with a list of the most common cosmetic procedures published by ASAPS were used to isolate cosmetic surgery cases. The specific surgical procedures captured in this analysis included liposuction, mastopexy, breast augmentation, reduction mammaplasty, abdominoplasty, rhinoplasty, brachioplasty, buttock lift, upper thigh lift, and blepharoplasty. All cases with a cosmetic CPT code were included in the analysis."
   ]
  },
  {
   "cell_type": "markdown",
   "id": "d1e2749c",
   "metadata": {},
   "source": [
    "#### **1. Start by accessing 2011 NSQIP data.**"
   ]
  },
  {
   "cell_type": "code",
   "execution_count": 2,
   "id": "0ae3c23c",
   "metadata": {},
   "outputs": [
    {
     "data": {
      "text/html": [
       "<div>\n",
       "<style scoped>\n",
       "    .dataframe tbody tr th:only-of-type {\n",
       "        vertical-align: middle;\n",
       "    }\n",
       "\n",
       "    .dataframe tbody tr th {\n",
       "        vertical-align: top;\n",
       "    }\n",
       "\n",
       "    .dataframe thead th {\n",
       "        text-align: right;\n",
       "    }\n",
       "</style>\n",
       "<table border=\"1\" class=\"dataframe\">\n",
       "  <thead>\n",
       "    <tr style=\"text-align: right;\">\n",
       "      <th></th>\n",
       "      <th>CaseID</th>\n",
       "      <th>SEX</th>\n",
       "      <th>RACE_NEW</th>\n",
       "      <th>ETHNICITY_HISPANIC</th>\n",
       "      <th>PRNCPTX</th>\n",
       "      <th>CPT</th>\n",
       "      <th>WORKRVU</th>\n",
       "      <th>INOUT</th>\n",
       "      <th>TRANST</th>\n",
       "      <th>Age</th>\n",
       "      <th>...</th>\n",
       "      <th>READMISSION</th>\n",
       "      <th>UNPLANREADMISSION</th>\n",
       "      <th>REOPERATION</th>\n",
       "      <th>STILLINHOSP</th>\n",
       "      <th>SSSIPATOS</th>\n",
       "      <th>DSSIPATOS</th>\n",
       "      <th>OSSIPATOS</th>\n",
       "      <th>PNAPATOS</th>\n",
       "      <th>UTIPATOS</th>\n",
       "      <th>VENTPATOS</th>\n",
       "    </tr>\n",
       "  </thead>\n",
       "  <tbody>\n",
       "    <tr>\n",
       "      <th>0</th>\n",
       "      <td>1229407</td>\n",
       "      <td>female</td>\n",
       "      <td>White</td>\n",
       "      <td>Yes</td>\n",
       "      <td>LAPS RPR RECURRENT INCISIONAL HERNIA REDUCIBLE</td>\n",
       "      <td>49656</td>\n",
       "      <td>15.08</td>\n",
       "      <td>Inpatient</td>\n",
       "      <td>Not transferred (admitted from home)</td>\n",
       "      <td>69</td>\n",
       "      <td>...</td>\n",
       "      <td>No</td>\n",
       "      <td>NaN</td>\n",
       "      <td>No</td>\n",
       "      <td>NaN</td>\n",
       "      <td>NaN</td>\n",
       "      <td>NaN</td>\n",
       "      <td>NaN</td>\n",
       "      <td>NaN</td>\n",
       "      <td>NaN</td>\n",
       "      <td>NaN</td>\n",
       "    </tr>\n",
       "    <tr>\n",
       "      <th>1</th>\n",
       "      <td>1229408</td>\n",
       "      <td>female</td>\n",
       "      <td>White</td>\n",
       "      <td>No</td>\n",
       "      <td>CLSR NTRSTM LG/SM INT</td>\n",
       "      <td>44620</td>\n",
       "      <td>14.43</td>\n",
       "      <td>Inpatient</td>\n",
       "      <td>Not transferred (admitted from home)</td>\n",
       "      <td>49</td>\n",
       "      <td>...</td>\n",
       "      <td>No</td>\n",
       "      <td>NaN</td>\n",
       "      <td>No</td>\n",
       "      <td>NaN</td>\n",
       "      <td>NaN</td>\n",
       "      <td>NaN</td>\n",
       "      <td>NaN</td>\n",
       "      <td>NaN</td>\n",
       "      <td>NaN</td>\n",
       "      <td>NaN</td>\n",
       "    </tr>\n",
       "    <tr>\n",
       "      <th>2</th>\n",
       "      <td>1229409</td>\n",
       "      <td>male</td>\n",
       "      <td>White</td>\n",
       "      <td>No</td>\n",
       "      <td>RPR UMBILICAL HRNA 5 YRS/&gt; RDC</td>\n",
       "      <td>49585</td>\n",
       "      <td>6.59</td>\n",
       "      <td>Outpatient</td>\n",
       "      <td>Not transferred (admitted from home)</td>\n",
       "      <td>48</td>\n",
       "      <td>...</td>\n",
       "      <td>No</td>\n",
       "      <td>NaN</td>\n",
       "      <td>No</td>\n",
       "      <td>NaN</td>\n",
       "      <td>NaN</td>\n",
       "      <td>NaN</td>\n",
       "      <td>NaN</td>\n",
       "      <td>NaN</td>\n",
       "      <td>NaN</td>\n",
       "      <td>NaN</td>\n",
       "    </tr>\n",
       "    <tr>\n",
       "      <th>3</th>\n",
       "      <td>1229410</td>\n",
       "      <td>male</td>\n",
       "      <td>White</td>\n",
       "      <td>Yes</td>\n",
       "      <td>LAPAROSCOPY REPAIR INCISIONAL HERNIA REDUCIBLE</td>\n",
       "      <td>49654</td>\n",
       "      <td>15.03</td>\n",
       "      <td>Inpatient</td>\n",
       "      <td>Not transferred (admitted from home)</td>\n",
       "      <td>72</td>\n",
       "      <td>...</td>\n",
       "      <td>No</td>\n",
       "      <td>NaN</td>\n",
       "      <td>No</td>\n",
       "      <td>NaN</td>\n",
       "      <td>NaN</td>\n",
       "      <td>NaN</td>\n",
       "      <td>NaN</td>\n",
       "      <td>NaN</td>\n",
       "      <td>NaN</td>\n",
       "      <td>NaN</td>\n",
       "    </tr>\n",
       "    <tr>\n",
       "      <th>4</th>\n",
       "      <td>1229411</td>\n",
       "      <td>female</td>\n",
       "      <td>White</td>\n",
       "      <td>Yes</td>\n",
       "      <td>MAST MODF RAD W/AX LYMPH NOD W/WO PECT/ALIS MIN</td>\n",
       "      <td>19307</td>\n",
       "      <td>18.23</td>\n",
       "      <td>Inpatient</td>\n",
       "      <td>Not transferred (admitted from home)</td>\n",
       "      <td>49</td>\n",
       "      <td>...</td>\n",
       "      <td>No</td>\n",
       "      <td>NaN</td>\n",
       "      <td>No</td>\n",
       "      <td>NaN</td>\n",
       "      <td>NaN</td>\n",
       "      <td>NaN</td>\n",
       "      <td>NaN</td>\n",
       "      <td>NaN</td>\n",
       "      <td>NaN</td>\n",
       "      <td>NaN</td>\n",
       "    </tr>\n",
       "  </tbody>\n",
       "</table>\n",
       "<p>5 rows × 252 columns</p>\n",
       "</div>"
      ],
      "text/plain": [
       "    CaseID     SEX RACE_NEW ETHNICITY_HISPANIC  \\\n",
       "0  1229407  female    White                Yes   \n",
       "1  1229408  female    White                 No   \n",
       "2  1229409    male    White                 No   \n",
       "3  1229410    male    White                Yes   \n",
       "4  1229411  female    White                Yes   \n",
       "\n",
       "                                           PRNCPTX    CPT  WORKRVU  \\\n",
       "0   LAPS RPR RECURRENT INCISIONAL HERNIA REDUCIBLE  49656    15.08   \n",
       "1                            CLSR NTRSTM LG/SM INT  44620    14.43   \n",
       "2                   RPR UMBILICAL HRNA 5 YRS/> RDC  49585     6.59   \n",
       "3   LAPAROSCOPY REPAIR INCISIONAL HERNIA REDUCIBLE  49654    15.03   \n",
       "4  MAST MODF RAD W/AX LYMPH NOD W/WO PECT/ALIS MIN  19307    18.23   \n",
       "\n",
       "        INOUT                                TRANST Age  ...  READMISSION  \\\n",
       "0   Inpatient  Not transferred (admitted from home)  69  ...           No   \n",
       "1   Inpatient  Not transferred (admitted from home)  49  ...           No   \n",
       "2  Outpatient  Not transferred (admitted from home)  48  ...           No   \n",
       "3   Inpatient  Not transferred (admitted from home)  72  ...           No   \n",
       "4   Inpatient  Not transferred (admitted from home)  49  ...           No   \n",
       "\n",
       "   UNPLANREADMISSION  REOPERATION STILLINHOSP SSSIPATOS DSSIPATOS  OSSIPATOS  \\\n",
       "0                NaN           No         NaN       NaN       NaN        NaN   \n",
       "1                NaN           No         NaN       NaN       NaN        NaN   \n",
       "2                NaN           No         NaN       NaN       NaN        NaN   \n",
       "3                NaN           No         NaN       NaN       NaN        NaN   \n",
       "4                NaN           No         NaN       NaN       NaN        NaN   \n",
       "\n",
       "   PNAPATOS UTIPATOS VENTPATOS  \n",
       "0       NaN      NaN       NaN  \n",
       "1       NaN      NaN       NaN  \n",
       "2       NaN      NaN       NaN  \n",
       "3       NaN      NaN       NaN  \n",
       "4       NaN      NaN       NaN  \n",
       "\n",
       "[5 rows x 252 columns]"
      ]
     },
     "execution_count": 2,
     "metadata": {},
     "output_type": "execute_result"
    }
   ],
   "source": [
    "df = pd.read_csv(\"NSQIP_data/ACS_NSQIP_PUF11_TXT.txt\", sep='\\t', na_values=[\"NULL\", -99], low_memory=False)\n",
    "df[:5]"
   ]
  },
  {
   "cell_type": "markdown",
   "id": "f2cfeafc",
   "metadata": {},
   "source": [
    "#### **2. Subset to \"Plastics\" as the surgical specialty.**"
   ]
  },
  {
   "cell_type": "code",
   "execution_count": 3,
   "id": "25c84a42",
   "metadata": {},
   "outputs": [
    {
     "name": "stdout",
     "output_type": "stream",
     "text": [
      "There are 10678 Plastics cases.\n"
     ]
    }
   ],
   "source": [
    "df_plastics = df[df.SURGSPEC == \"Plastics\"]\n",
    "print(f\"There are {df_plastics.shape[0]} Plastics cases.\")"
   ]
  },
  {
   "cell_type": "markdown",
   "id": "d86e568d",
   "metadata": {},
   "source": [
    "#### **3. Subset by outpatient status**"
   ]
  },
  {
   "cell_type": "markdown",
   "id": "77b8e001",
   "metadata": {},
   "source": [
    "#### Reproduction Uncertainty\n",
    "*Outpatient status is implied in the Introduction and Results, but not mentioned in the Methods section.*\n",
    "\n",
    "**Decision:** Will proceed with filtering by outpatient status in both cosmetics cases and non-Plastics cases for comparison"
   ]
  },
  {
   "cell_type": "code",
   "execution_count": 4,
   "id": "384a23ad",
   "metadata": {},
   "outputs": [
    {
     "name": "stdout",
     "output_type": "stream",
     "text": [
      "Across all specialties there are 153228 outpatient cases.\n",
      "There are 7005 outpatient, Plastics cases.\n"
     ]
    }
   ],
   "source": [
    "df_plastics_outpatient = df_plastics[df_plastics.INOUT==\"Outpatient\"]\n",
    "df_outpatient = df[df.INOUT==\"Outpatient\"]\n",
    "\n",
    "print(f\"Across all specialties there are {df_outpatient.shape[0]} outpatient cases.\")\n",
    "print(f\"There are {df_plastics_outpatient.shape[0]} outpatient, Plastics cases.\")"
   ]
  },
  {
   "cell_type": "markdown",
   "id": "90fa98b4",
   "metadata": {},
   "source": [
    "#### **4. Identify cosmetic procedures by CPT code**"
   ]
  },
  {
   "cell_type": "markdown",
   "id": "ad42c8a2",
   "metadata": {},
   "source": [
    "#### Reproduction Uncertainty\n",
    "*Exact CPT codes were not provided in the manuscript. Instead a list of cosmetic procedures was given.*\n",
    "\n",
    "**Decision**: Cosmetic CPT codes were externally chosen based on list of procedures. \n",
    "\n",
    "- liposuction: 15876, 15877, 15878, 15879\n",
    "- mastopexy: 19316\n",
    "- breast augmentation: 19325\n",
    "- breast reduction: 19318\n",
    "- abdominoplasty: 15847, 15830\n",
    "- rhinoplasty: 30400, 30410, 30420, 30430, 30435, 30450\n",
    "- brachioplasty: 15836\n",
    "- buttock lift: 20926\n",
    "- upper thigh lift: 15832\n",
    "- blepharoplasty: 15820, 15821, 15822, 15823"
   ]
  },
  {
   "cell_type": "markdown",
   "id": "373468d0",
   "metadata": {},
   "source": [
    "#### Reproduction Uncertainty\n",
    "*There are multiple CPT columns that refer to the primary or additional CPT codes within a procedure. It was not specified whether the cosmetic CPT needed to be the primary CPT code.*"
   ]
  },
  {
   "cell_type": "code",
   "execution_count": 5,
   "id": "c9a16380",
   "metadata": {
    "scrolled": true
   },
   "outputs": [],
   "source": [
    "cpt_columns = [\n",
    "   \"CPT\", \"OTHERCPT1\", \"OTHERCPT2\", \"OTHERCPT3\", \"OTHERCPT4\", \"OTHERCPT5\",\n",
    "   \"OTHERCPT6\", \"OTHERCPT7\", \"OTHERCPT8\", \"OTHERCPT9\", \"OTHERCPT10\",\n",
    "   \"CONCPT1\", \"CONCPT2\", \"CONCPT3\", \"CONCPT4\", \"CONCPT5\", \"CONCPT6\",\n",
    "   \"CONCPT7\", \"CONCPT8\", \"CONCPT9\", \"CONCPT10\"\n",
    "]\n",
    "\n",
    "# Function to clean CPT codes\n",
    "def clean_cpt(code):\n",
    "    if pd.isnull(code):\n",
    "        return ''\n",
    "    code_str = str(code).strip().split('-')[0].split('.')[0]\n",
    "    return code_str  \n",
    "\n",
    "# Apply cleaning to all CPT columns in each dataset\n",
    "for col in cpt_columns:\n",
    "    df_plastics_outpatient.loc[:,col] = df_plastics_outpatient[col].apply(clean_cpt)"
   ]
  },
  {
   "cell_type": "code",
   "execution_count": 7,
   "id": "6231227e",
   "metadata": {},
   "outputs": [
    {
     "name": "stdout",
     "output_type": "stream",
     "text": [
      "If checking only the primary CPT code, there are 2586 cosmetic cases.\n",
      "If checking all CPT code columns, there are 3164 cosmetic cases.\n"
     ]
    }
   ],
   "source": [
    "cosmetic_cpt_codes = ['15876','15877','15878','15879','19316','19325','19318',\n",
    "                     '15830','15847','30400','30410','30420','30430','30435',\n",
    "                     '30450','15836','20926','15832','15820','15821','15822','15823']\n",
    "\n",
    "cpt_mask = df_plastics_outpatient[cpt_columns].isin(cosmetic_cpt_codes).any(axis=1)\n",
    "#df_cosmetics = df_plastics[ cpt_mask ]\n",
    "\n",
    "primary_cpt_mask = df_plastics_outpatient['CPT'].isin(cosmetic_cpt_codes)\n",
    "df_cosmetics_outpatient = df_plastics_outpatient[primary_cpt_mask]\n",
    "\n",
    "print(f\"If checking only the primary CPT code, there are {sum(primary_cpt_mask)} cosmetic cases.\")\n",
    "print(f\"If checking all CPT code columns, there are {sum(cpt_mask)} cosmetic cases.\")\n",
    "      \n",
    "#print(\"\\nWill proceed with all CPT code columns.\")"
   ]
  },
  {
   "cell_type": "markdown",
   "id": "326929a4",
   "metadata": {},
   "source": [
    "**Decision:** Investigator A chose to use only the primary CPT code for 2,586 cases. Investigator B chose to use all CPT codes for a total of 3,164 cases."
   ]
  },
  {
   "cell_type": "markdown",
   "id": "9bddad86",
   "metadata": {},
   "source": [
    "## *Excerpt from Methods*\n",
    "\n",
    "### Outcome Measures\n",
    "The primary outcome of interest was unplanned readmission. The 2011 NSQIP data set includes 2 newly incorporated variables to  track different readmissions: (1) the variable entitled “readmission” represents all-cause readmission, meaning readmission (to the same or another hospital) for any reason in the 30-day period after the index surgery, and (2) the variable entitled unplanned readmission” is defined as “readmission (to the same or another hospital) for a postoperative occurrence likely related to the principal surgical procedure” within 30 days of the procedure. We utilized the unplanned readmission variable to calculate readmission rates and provide a more focused investigation of the predictors of readmission.\n",
    "\n",
    "“Surgical complication” was defined as having ≥1 of the following NSQIP postoperative adverse events: superficial surgical site infection (SSI), deep SSI, organ/space SSI, wound disruption/dehiscence, or graft/prosthesis failure. Medical complications included pneumonia, unplanned intubation, pulmonary embolism, failure to wean from a ventilator, renal insufficiency, progressive renal failure, urinary tract infection, stroke, coma, peripheral neurologic deficiency, cardiac arrest, myocardial infarction, bleeding requiring a transfusion, deep venous thrombosis (DVT), and sepsis or septic shock."
   ]
  },
  {
   "cell_type": "markdown",
   "id": "3bdeeb61",
   "metadata": {},
   "source": [
    "#### **1. Separate readmitted vs. non-readmitted cases.**"
   ]
  },
  {
   "cell_type": "code",
   "execution_count": 7,
   "id": "03946201",
   "metadata": {},
   "outputs": [
    {
     "data": {
      "text/plain": [
       "UNPLANREADMISSION\n",
       "Yes    46\n",
       "No     45\n",
       "Name: count, dtype: int64"
      ]
     },
     "execution_count": 7,
     "metadata": {},
     "output_type": "execute_result"
    }
   ],
   "source": [
    "df_cosmetics_outpatient.UNPLANREADMISSION.value_counts()"
   ]
  },
  {
   "cell_type": "code",
   "execution_count": 8,
   "id": "b66efd44",
   "metadata": {},
   "outputs": [
    {
     "name": "stdout",
     "output_type": "stream",
     "text": [
      "There are 2586 outpatient cosmetics cases.\n",
      "There are 2495 outpatient cosmetics cases with an NA in the UNPLANREADMISSION.\n"
     ]
    }
   ],
   "source": [
    "print(f\"There are {df_cosmetics_outpatient.shape[0]} outpatient cosmetics cases.\")\n",
    "print(f\"There are {df_cosmetics_outpatient.UNPLANREADMISSION.isna().sum()} outpatient cosmetics cases with an NA in the UNPLANREADMISSION.\")"
   ]
  },
  {
   "cell_type": "markdown",
   "id": "df3f12ce",
   "metadata": {},
   "source": [
    "#### Reproduction Uncertainty\n",
    "*The UNPLANREADMISSION column contains a lot of NAs. Out of 2,586 outpatient cosmetic cases, there are 2,495 without information in the unplanned readmission columns, only leaving 91 cases. 45 of 2,586 cases have \"No\" in the readmission column.*\n",
    "\n",
    "**Decision:** Both Investigators A and B assumed that \"NA\" referred to no readmission. "
   ]
  },
  {
   "cell_type": "code",
   "execution_count": 9,
   "id": "1b329f7b",
   "metadata": {},
   "outputs": [
    {
     "name": "stdout",
     "output_type": "stream",
     "text": [
      "46 outpatient cosmetic cases were readmitted.\n",
      "2540 outpatient cosmetic cases were not readmitted.\n"
     ]
    }
   ],
   "source": [
    "#Replace NA with \"No\" in the UNPLANREADMISSION column\n",
    "df_cosmetics_outpatient = df_cosmetics_outpatient.copy()\n",
    "df_cosmetics_outpatient.UNPLANREADMISSION.fillna(\"No\", inplace=True)\n",
    "\n",
    "df_readmitted = df_cosmetics_outpatient[(df_cosmetics_outpatient.UNPLANREADMISSION == \"Yes\") ]\n",
    "df_not_readmitted = df_cosmetics_outpatient[(df_cosmetics_outpatient.UNPLANREADMISSION == \"No\") ]\n",
    "assert df_readmitted.shape[0] + df_not_readmitted.shape[0] == df_cosmetics_outpatient.shape[0]\n",
    "\n",
    "print(f\"{df_readmitted.shape[0]} outpatient cosmetic cases were readmitted.\")\n",
    "print(f\"{df_not_readmitted.shape[0]} outpatient cosmetic cases were not readmitted.\")"
   ]
  },
  {
   "cell_type": "markdown",
   "id": "db4c1008",
   "metadata": {},
   "source": [
    "#### **2. Define surgical complications for cases with and without readmission**\n",
    "\n",
    "- Identified columns of interest:\n",
    "\n",
    "| Complication    | Column |\n",
    "| -------- | ------- |\n",
    "| Superficial SSI | SUPINFEC|\n",
    "| Deep SSI        | WNDINFD |\n",
    "| Organ/Space SSI | ORGSPCSSI|\n",
    "| Wound disruption/dehiscence|DEHIS|\n",
    "| Graft/prosthesis failure|OTHGRAFL|  \n",
    "\n",
    "<br />\n",
    "\n",
    "- Converted all columns to \"Yes|No\" for easier processing.\n",
    "- Added new surgical complication (SURG_COMPLICATION) column to identify prescence of any of the surgical complications."
   ]
  },
  {
   "cell_type": "code",
   "execution_count": 10,
   "id": "22978d7a",
   "metadata": {},
   "outputs": [],
   "source": [
    "#Ensure copies to avoid SettingWithCopyWarning\n",
    "df_readmitted = df_readmitted.copy()\n",
    "df_not_readmitted = df_not_readmitted.copy()\n",
    "\n",
    "# Mapping of source columns to (new binary column, value to match)\n",
    "complications = {\n",
    "    \"SUPINFEC\":   (\"SUPINFEC_BINARY\", \"Superficial Incisional SSI\"),\n",
    "    \"WNDINFD\":    (\"WNDINFD_BINARY\", \"Deep Incisional SSI\"),\n",
    "    \"ORGSPCSSI\":  (\"ORGSPCSSI_BINARY\", \"Organ/Space SSI\"),\n",
    "    \"DEHIS\":      (\"DEHIS_BINARY\", \"Wound Disruption\"),\n",
    "    \"OTHGRAFL\":   (\"OTHGRAFL_BINARY\", \"Graft/Prosthesis/Flap Failure\")\n",
    "}\n",
    "\n",
    "# List of dataframes to process\n",
    "dfs = [df_readmitted, df_not_readmitted]\n",
    "\n",
    "# Assert that there are no NAs in the complications columns.\n",
    "for df in dfs:\n",
    "    for col in complications.keys():\n",
    "        assert not df[col].isna().any(), f\"Column {col} contains NA values.\"\n",
    "\n",
    "# Process each dataframe\n",
    "for df in dfs:\n",
    "    # Create binary columns based on matching condition\n",
    "    for col, (binary_col, match_value) in complications.items():\n",
    "        df.loc[:, binary_col] = np.where(df[col] == match_value, \"Yes\", \"No\")\n",
    "    \n",
    "    # List of binary complication column names\n",
    "    surg_columns = [binary for binary, _ in complications.values()]\n",
    "    \n",
    "    # Create overall surgical complication column based on any Yes in surg_columns\n",
    "    df.loc[:, \"SURG_COMPLICATION\"] = np.where(\n",
    "        df[surg_columns].eq(\"Yes\").any(axis=1),\n",
    "        \"Yes\",\n",
    "        \"No\"\n",
    "    )\n"
   ]
  },
  {
   "cell_type": "markdown",
   "id": "dae64064",
   "metadata": {},
   "source": [
    "#### Reproduction Uncertainty\n",
    "*Reoperation rate was discussed in the Results, but not described as an included variable in the Surgical complications category.*\n",
    "\n",
    "*Additionally, there are two reoperation variables. RETURNOR describes all planned and unplanned return to the operating room. REOPERATION includes only unplanned return to the operating room. Methods do not specify which variable was used.*\n",
    "\n",
    "**Decision:** Reoperation rate will be kept separate from the \"Surgical complications\" category. The REOPERATION variable will be used. "
   ]
  },
  {
   "cell_type": "code",
   "execution_count": 11,
   "id": "6bcedce2",
   "metadata": {},
   "outputs": [
    {
     "name": "stdout",
     "output_type": "stream",
     "text": [
      "There are 87 cases with missing REOPERATION variable.\n"
     ]
    }
   ],
   "source": [
    "print(f\"\"\"There are {df_not_readmitted['REOPERATION'].isna().sum() +\n",
    "                   df_readmitted['REOPERATION'].isna().sum()} cases with missing REOPERATION variable.\"\"\")"
   ]
  },
  {
   "cell_type": "markdown",
   "id": "c2dfdc1f",
   "metadata": {},
   "source": [
    "#### Reproduction Uncertainty\n",
    "*No discussion was made about cases with missing variables.*\n",
    "\n",
    "**Decision:** We will exclude the cases with a missing REOPERATION variable. "
   ]
  },
  {
   "cell_type": "code",
   "execution_count": 12,
   "id": "5c792512",
   "metadata": {},
   "outputs": [],
   "source": [
    "df_not_readmitted.dropna(subset=[\"REOPERATION\"], inplace=True)\n",
    "df_readmitted.dropna(subset=[\"REOPERATION\"], inplace=True)\n",
    "\n",
    "df_readmitted.loc[:, \"REOPERATION_BINARY\"] = np.where(\n",
    "    df_readmitted[\"REOPERATION\"] == \"Yes\",\n",
    "    \"Yes\",\n",
    "    \"No\"\n",
    ")\n",
    "\n",
    "df_not_readmitted.loc[:, \"REOPERATION_BINARY\"] = np.where(\n",
    "    df_not_readmitted[\"REOPERATION\"] == \"Yes\",\n",
    "    \"Yes\",\n",
    "    \"No\"\n",
    ")"
   ]
  },
  {
   "cell_type": "markdown",
   "id": "1c83dc17",
   "metadata": {},
   "source": [
    "#### **2. Define medical complications for cases with and without readmission**\n",
    "\n",
    "\n",
    "- Identified columns of interest:\n",
    "\n",
    "| Complication    | Column |\n",
    "| -------- | ------- |\n",
    "| Pneumonia | OUPNEUMO|\n",
    "| Unplanned intubation  | REINTUB |\n",
    "| Pulmonary embolism | PULEMBOL|\n",
    "| Failure to wean from ventilator|FAILWEAN|\n",
    "| Renal insufficiency |RENAINSF|\n",
    "| Progressive renal failure|OPRENAFL|  \n",
    "| Urinary tract infection|URNINFEC|  \n",
    "| Stroke|CNSCVA|\n",
    "| Coma|CNSCOMA|  \n",
    "| Peripheral neurologic deficiency|NEURODEF|  \n",
    "| Cardiac arrest|CDARREST| \n",
    "| Myocardial infarction|CDMI|  \n",
    "| Bleeding requiring a transfusion|OTHBLEED|  \n",
    "| Deep venous thrombosis|OTHDVT|  \n",
    "| Sepsis|OTHSYSEP|  \n",
    "| Septic shock|OTHSESHOCK|\n",
    "\n",
    "<br />\n",
    "\n",
    "- Converted all columns to \"Yes|No\" for easier processing.  \n",
    "- Added new medical complication (MED_COMPLICATION) column to identify prescence of any of the medical complications."
   ]
  },
  {
   "cell_type": "code",
   "execution_count": 13,
   "id": "40562051",
   "metadata": {},
   "outputs": [],
   "source": [
    "# Ensure the dataframes are copies to avoid SettingWithCopyWarning\n",
    "df_readmitted = df_readmitted.copy()\n",
    "df_not_readmitted = df_not_readmitted.copy()\n",
    "\n",
    "# Mapping of source columns to (new binary column, value to match)\n",
    "medical_complications = {\n",
    "    \"OUPNEUMO\":  (\"OUPNEUMO_BINARY\",  \"Pneumonia\"),\n",
    "    \"REINTUB\":   (\"REINTUB_BINARY\",   \"Unplanned Intubation\"),\n",
    "    \"PULEMBOL\":  (\"PULEMBOL_BINARY\",  \"Pulmonary Embolism\"),\n",
    "    \"FAILWEAN\":  (\"FAILWEAN_BINARY\",  \"On Ventilator greater than 48 Hours\"),\n",
    "    \"RENAINSF\":  (\"RENAINSF_BINARY\",  \"Progressive Renal Insufficiency\"),\n",
    "    \"OPRENAFL\":  (\"OPRENAFL_BINARY\",  \"Acute Renal Failure\"),\n",
    "    \"URNINFEC\":  (\"URNINFEC_BINARY\",  \"Urinary Tract Infection\"),\n",
    "    \"CNSCVA\":    (\"CNSCVA_BINARY\",    \"Stroke/CVA\"),\n",
    "    \"CNSCOMA\":   (\"CNSCOMA_BINARY\",   \"Coma greater than 24 hours\"),\n",
    "    \"NEURODEF\":  (\"NEURODEF_BINARY\",  \"Peripheral nerve injury\"),\n",
    "    \"CDARREST\":  (\"CDARREST_BINARY\",  \"Cardiac Arrest Requiring CPR\"),\n",
    "    \"CDMI\":      (\"CDMI_BINARY\",      \"Myocardial Infarction\"),\n",
    "    \"OTHBLEED\":  (\"OTHBLEED_BINARY\",  \"Transfusions/Intraop/Postop\"),\n",
    "    \"OTHDVT\":    (\"OTHDVT_BINARY\",    \"DVT Requiring Therapy\"),\n",
    "    \"OTHSYSEP\":  (\"OTHSYSEP_BINARY\",  \"Sepsis\"),\n",
    "    \"OTHSESHOCK\":(\"OTHSESHOCK_BINARY\",\"Septic Shock\")\n",
    "}\n",
    "\n",
    "# List of dataframes to process\n",
    "dfs = [df_readmitted, df_not_readmitted]\n",
    "\n",
    "# Assert that there are no NAs in the original columns for each dataframe\n",
    "for df in dfs:\n",
    "    for col in medical_complications.keys():\n",
    "        assert not df[col].isna().any(), f\"Column {col} contains NA values.\"\n",
    "\n",
    "# Process each dataframe\n",
    "for df in dfs:\n",
    "    # Create binary columns based on the matching condition\n",
    "    for col, (binary_col, match_value) in medical_complications.items():\n",
    "        df.loc[:, binary_col] = np.where(df[col] == match_value, \"Yes\", \"No\")\n",
    "    \n",
    "    # List of new binary column names for medical complications\n",
    "    med_columns = [binary for binary, _ in medical_complications.values()]\n",
    "    \n",
    "    # Create overall medical complication column if any of the binary columns is \"Yes\"\n",
    "    df.loc[:, \"MED_COMPLICATION\"] = np.where(\n",
    "        df[med_columns].eq(\"Yes\").any(axis=1),\n",
    "        \"Yes\",\n",
    "        \"No\"\n",
    "    )\n"
   ]
  },
  {
   "cell_type": "markdown",
   "id": "f8e1208b",
   "metadata": {},
   "source": [
    "Additional column added for total complications. Cases that had a medical or surgical complication or a reoperation were included.  "
   ]
  },
  {
   "cell_type": "code",
   "execution_count": 14,
   "id": "0819e34b",
   "metadata": {},
   "outputs": [],
   "source": [
    "##total complications\n",
    "comp_columns = [\n",
    "    \"MED_COMPLICATION\",\n",
    "    \"SURG_COMPLICATION\",\n",
    "    \"REOPERATION_BINARY\"\n",
    "]\n",
    "\n",
    "df_readmitted.loc[:, \"TOTAL_COMPLICATION\"] = np.where(\n",
    "    df_readmitted[comp_columns].eq(\"Yes\").any(axis=1),\n",
    "    \"Yes\",\n",
    "    \"No\"\n",
    ")\n",
    "\n",
    "df_not_readmitted.loc[:, \"TOTAL_COMPLICATION\"] = np.where(\n",
    "    df_not_readmitted[comp_columns].eq(\"Yes\").any(axis=1),\n",
    "    \"Yes\",\n",
    "    \"No\"\n",
    ")"
   ]
  },
  {
   "cell_type": "markdown",
   "id": "2d73f205",
   "metadata": {},
   "source": [
    "## *Excerpt from Methods*\n",
    "\n",
    "### Risk-Adjustment Factors\n",
    "Patient demographics and medical comorbidities were tracked as potential confounders. Demographic data included age and sex. Medical comorbidities included diabetes, dyspnea, ascites, renal disease, chronic obstructive pulmonary disease, current pneumonia, ventilator dependence, chronic steroid use, bleeding disorders, heart failure, and coronary disease (myocardial infarction within 6 months of operation, angina, previous coronary intervention, or surgery), as well as cerebrovascular disease (previous transient ischemic attack or stroke), peripheral vascular disease, disseminated cancer, weight loss of >10% body weight within 6 months of operation, current chemotherapy or radiotherapy, preoperative transfusion, and preoperative sepsis. Alcohol use (defined as >2 drinks per day) and active smoking status were tracked as behavioral risk factors."
   ]
  },
  {
   "cell_type": "markdown",
   "id": "1608bdb0",
   "metadata": {},
   "source": [
    "#### **1. Define demographic variables and find appropriate data columns**\n",
    "\n",
    "- Identified columns of interest:\n",
    "\n",
    "| Complication    | Column |\n",
    "| -------- | ------- |\n",
    "| Age | Age |\n",
    "| BMI | HEIGHT, WEIGHT |\n",
    "| Diabetes | DIABETES |\n",
    "| Dyspnea | DYSPNEA |\n",
    "| Ascites | ASCITES |\n",
    "| Renal disease | DIALYSIS, RENAFAIL |\n",
    "| Chronic obstructive pulmonary disease | HXCOPD |\n",
    "| Current pneumonia | CPNEUMON |\n",
    "| Ventilator dependence | VENTILAT |\n",
    "| Chronic steroid use |STEROID |\n",
    "| Bleeding disorders | BLEEDDIS|\n",
    "| Heart failure | HXCHF |\n",
    "| Peripheral vascular disease |HXPVD|\n",
    "| Disseminated cancer |DISCANCR|\n",
    "| Weight loss >10% |WTLOSS|\n",
    "| Current chemotherapy |CHEMO|\n",
    "| Current radiotherapy |RADIO|\n",
    "| Preoperative transfusion |TRANSFUS|\n",
    "| Preoperative sepsis |PRSEPIS|\n",
    "    \n",
    "\n",
    "- Coronary disease columns:\n",
    "\n",
    "| Complication    | Column |\n",
    "| -------- | ------- |\n",
    "|Myocardial infraction within 6 mos |HXMI |\n",
    "| Angina | HXANGINA|\n",
    "| Previous coronary intervention | PRVPCI |\n",
    "| Surgery |PRVPCS |\n",
    "\n",
    "- Cerebrovascular disease columns:\n",
    "\n",
    "| Complication    | Column |\n",
    "| -------- | ------- |\n",
    "| Previous transient ischemic attack | HXTIA|\n",
    "| Stroke |CVA, CVANO|\n",
    "\n",
    "- Behavioral risk factor columns:\n",
    "\n",
    "| Complication    | Column |\n",
    "| -------- | ------- |\n",
    "|Alcohol use|ETOH|\n",
    "|Active smoking|SMOKE|\n"
   ]
  },
  {
   "cell_type": "markdown",
   "id": "74813736",
   "metadata": {},
   "source": [
    "#### Reproduction Uncertainty\n",
    "*Methods do not describe how to handle missing data*\n",
    "\n",
    "**Decision:** All cases with any missing demographic or comorbidities will be excluded. "
   ]
  },
  {
   "cell_type": "code",
   "execution_count": 15,
   "id": "de6a1836",
   "metadata": {},
   "outputs": [
    {
     "name": "stdout",
     "output_type": "stream",
     "text": [
      "Number of rows that would be dropped: 1198\n"
     ]
    }
   ],
   "source": [
    "# Define columns of interest in one line\n",
    "columns_of_interest = [\"Age\", \"HEIGHT\", \"WEIGHT\", \"DIABETES\", \"DYSPNEA\", \"ASCITES\", \"DIALYSIS\", \"RENAFAIL\", \"HXCOPD\", \"CPNEUMON\", \"VENTILAT\", \"STEROID\", \"BLEEDDIS\", \"HXCHF\", \"HXPVD\", \"DISCANCR\", \"WTLOSS\", \"CHEMO\", \"RADIO\", \"TRANSFUS\", \"HXMI\", \"HXANGINA\", \"PRVPCI\", \"PRVPCS\", \"HXTIA\", \"CVA\", \"CVANO\", \"ETOH\", \"SMOKE\"]\n",
    "\n",
    "# Count the number of rows that have at least one NA among these columns\n",
    "rows_with_na = df_not_readmitted[columns_of_interest].isna().any(axis=1).sum() + df_readmitted[columns_of_interest].isna().any(axis=1).sum()\n",
    "print(f\"Number of rows that would be dropped: {rows_with_na}\")"
   ]
  },
  {
   "cell_type": "code",
   "execution_count": 16,
   "id": "6632287c",
   "metadata": {},
   "outputs": [
    {
     "name": "stdout",
     "output_type": "stream",
     "text": [
      "Before checking NAs, there are 2453 cosmetic cases that were not readmitted.\n",
      "Before checking NAs, there are 46 cosmetic cases that were readmitted.\n",
      "\n",
      "After dropping NAs, there are 1274 cosmetic cases that were not readmitted.\n",
      "After dropping NAs, there are 27 cosmetic cases that were readmitted.\n"
     ]
    }
   ],
   "source": [
    "print(f\"Before checking NAs, there are {df_not_readmitted.shape[0]} cosmetic cases that were not readmitted.\")\n",
    "print(f\"Before checking NAs, there are {df_readmitted.shape[0]} cosmetic cases that were readmitted.\")\n",
    "\n",
    "df_not_readmitted = df_not_readmitted.dropna(subset=columns_of_interest)\n",
    "df_readmitted = df_readmitted.dropna(subset=columns_of_interest)\n",
    "\n",
    "print(f\"\\nAfter dropping NAs, there are {df_not_readmitted.shape[0]} cosmetic cases that were not readmitted.\")\n",
    "print(f\"After dropping NAs, there are {df_readmitted.shape[0]} cosmetic cases that were readmitted.\")\n"
   ]
  },
  {
   "cell_type": "markdown",
   "id": "5a17a25c",
   "metadata": {},
   "source": [
    "#### **2. Clean variables**"
   ]
  },
  {
   "cell_type": "markdown",
   "id": "0c831196",
   "metadata": {},
   "source": [
    "#### Reproduction Uncertainty\n",
    "*For two variables, \"renal disease\" and \"stroke\" there are multiple columns. Renal disease could refer to the patient currently on dialysis (DIALYSIS column) or the patient is in acute renal failure (RENAFAIL column). For stroke, there are two columns, CVA and CVANO in which the patient has a history of stroke/CVA with and without persistent neurological deficits. The specific column used for both variables is not specified.*\n",
    "\n",
    "**Decision:** For renal disease, presence of either dialysis or acute renal failure will be considered. Similarly for stroke, both CVA and CVANO will be considered.  "
   ]
  },
  {
   "cell_type": "code",
   "execution_count": 17,
   "id": "2ae551ea",
   "metadata": {},
   "outputs": [],
   "source": [
    "# Ensure the dataframes are copies to avoid SettingWithCopyWarning\n",
    "df_readmitted = df_readmitted.copy()\n",
    "df_not_readmitted = df_not_readmitted.copy()\n",
    "\n",
    "# List of dataframes for processing\n",
    "dfs = [df_readmitted, df_not_readmitted]\n",
    "\n",
    "# ----- Single-column transformations -----\n",
    "# Mapping for columns with direct \"Yes/No\" logic:\n",
    "# - For DIABETES, we check if the value is either \"INSULIN\" or \"NON-INSULIN\".\n",
    "# - For DYSPNEA, we check if value is either \"AT REST\" or \"MODERATE EXERTION\"\n",
    "# - For ASACLAS, we check if the value is in [\"3-Severe Disturb\", \"4-Life Threat\"].\n",
    "single_col_mappings = {\n",
    "    \"DIABETES\": {\"binary_col\": \"DIABETES_BINARY\", \"yes_vals\": [\"INSULIN\", \"NON-INSULIN\"]},\n",
    "    \"DYSPNEA\" : {\"binary_col\": \"DYSPNEA_BINARY\", \"yes_vals\": [\"AT REST\", \"MODERATE EXERTION\"]},\n",
    "    \"ASACLAS\":  {\"binary_col\": \"ASACLAS_BINARY\",    \"yes_vals\": [\"3-Severe Disturb\", \"4-Life Threat\"]}\n",
    "}\n",
    "\n",
    "# Assert no NAs in these original columns and apply the transformation\n",
    "for df in dfs:\n",
    "    for col, mapping in single_col_mappings.items():\n",
    "        assert not df[col].isna().any(), f\"Column {col} contains NA values.\"\n",
    "        df.loc[:, mapping[\"binary_col\"]] = np.where(\n",
    "            df[col].isin(mapping[\"yes_vals\"]),\n",
    "            \"Yes\",\n",
    "            \"No\"\n",
    "        )\n",
    "\n",
    "# ----- Multiple-column (aggregated) transformations -----\n",
    "# Renal failure\n",
    "renal_columns = [\"DIALYSIS\", \"RENAFAIL\"]\n",
    "# Coronary disease\n",
    "coronary_columns = [\"HXMI\", \"HXANGINA\", \"PRVPCI\", \"PRVPCS\"]\n",
    "# Cerebrovascular disease\n",
    "brain_columns = [\"HXTIA\", \"CVA\", \"CVANO\"]\n",
    "\n",
    "# Assert no NAs in the coronary and brain columns\n",
    "for df in dfs:\n",
    "    for col in renal_columns:\n",
    "        assert not df[col].isna().any(), f\"Column {col} contains NA values.\"\n",
    "    for col in coronary_columns:\n",
    "        assert not df[col].isna().any(), f\"Column {col} contains NA values.\"\n",
    "    for col in brain_columns:\n",
    "        assert not df[col].isna().any(), f\"Column {col} contains NA values.\"\n",
    "    \n",
    "\n",
    "# Apply aggregated transformation for coronary and brain conditions\n",
    "for df in dfs:\n",
    "    df.loc[:, \"RENAL_BINARY\"] = np.where(\n",
    "        df[renal_columns].eq(\"Yes\").any(axis=1),\n",
    "        \"Yes\",\n",
    "        \"No\"\n",
    "    )\n",
    "    df.loc[:, \"CORONARY_BINARY\"] = np.where(\n",
    "        df[coronary_columns].eq(\"Yes\").any(axis=1),\n",
    "        \"Yes\",\n",
    "        \"No\"\n",
    "    )\n",
    "    df.loc[:, \"BRAIN_BINARY\"] = np.where(\n",
    "        df[brain_columns].eq(\"Yes\").any(axis=1),\n",
    "        \"Yes\",\n",
    "        \"No\"\n",
    "    )\n"
   ]
  },
  {
   "cell_type": "markdown",
   "id": "793ab1fc",
   "metadata": {},
   "source": [
    "Calcualte BMI with the following standard formula:\n",
    "- weight / height ^2 * 703"
   ]
  },
  {
   "cell_type": "code",
   "execution_count": 18,
   "id": "eb41013f",
   "metadata": {},
   "outputs": [],
   "source": [
    "df_readmitted['BMI'] = (df_readmitted.WEIGHT / (df_readmitted.HEIGHT ** 2)) * 703\n",
    "df_not_readmitted['BMI'] = (df_not_readmitted.WEIGHT / (df_not_readmitted.HEIGHT ** 2)) * 703\n"
   ]
  },
  {
   "cell_type": "markdown",
   "id": "1e9deed3",
   "metadata": {},
   "source": [
    "## *Excerpt from Methods*\n",
    "### Statistical Analysis\n",
    "The unplanned readmission rate was calculated for outpatient cosmetic surgery cases, as well as the 5 other surgical disciplines with the highest number of reported outpatient procedures (general, orthopedic, gynecologic, urologic,\n",
    "and otolaryngologic surgery). Subgroup analysis was performed on the 5 most common outpatient cosmetic surgery procedures captured in the NSQIP database: reduction mammaplasty, mastopexy, breast augmentation, liposuction, and abdominoplasty. Patient demographics, risk factors, and postoperative outcomes were tracked for readmitted and non-readmitted patients. Chi-square analysis and the Student t test were used to compare categorical and continuous variables, respectively. "
   ]
  },
  {
   "cell_type": "markdown",
   "id": "adea74cd",
   "metadata": {},
   "source": [
    "### Figure 1: Analyze unplanned readmission rates by surgical specialty"
   ]
  },
  {
   "cell_type": "markdown",
   "id": "439bc660",
   "metadata": {},
   "source": [
    "#### Reproduction Uncertainty\n",
    "*As previously discussed, the UNPLANREADMISSION column contains a lot of NAs.*\n",
    "\n",
    "**Decision:** We will consider NAs as no unplanned readmission for all surgical specialties"
   ]
  },
  {
   "cell_type": "code",
   "execution_count": 19,
   "id": "dbc17b1d",
   "metadata": {},
   "outputs": [
    {
     "data": {
      "image/png": "[encoded data removed]",
      "text/plain": [
       "<Figure size 1000x600 with 1 Axes>"
      ]
     },
     "metadata": {},
     "output_type": "display_data"
    }
   ],
   "source": [
    "# Define the specialties of interest\n",
    "specialties = [\"Orthopedics\", \"Gynecology\", \"Otolaryngology (ENT)\", \"General Surgery\", \"Urology\"]\n",
    "\n",
    "# Subset the DataFrame to only include rows for the specialties of interest\n",
    "df_subset = df_outpatient[df_outpatient[\"SURGSPEC\"].isin(specialties)].copy()\n",
    "\n",
    "# Treat NA in UNPLANREADMISSION as \"No\"\n",
    "df_subset[\"UNPLANREADMISSION\"] = df_subset[\"UNPLANREADMISSION\"].fillna(\"No\")\n",
    "\n",
    "# Calculate the readmission rate for each specialty:\n",
    "# Count rows with \"Yes\" and divide by the total rows in that specialty, then multiply by 100 for percentage.\n",
    "readmission_rates = df_subset.groupby(\"SURGSPEC\")[\"UNPLANREADMISSION\"].apply(\n",
    "    lambda x: (x == \"Yes\").sum() / len(x) * 100\n",
    ")\n",
    "\n",
    "# Reindex to ensure the order of the bars matches the desired specialty order\n",
    "readmission_rates = readmission_rates.reindex(specialties)\n",
    "\n",
    "# Now, calculate the readmission rate for cosmetic outpatients (from df_cosmetic_outpatient)\n",
    "df_cosmetics_outpatient = df_cosmetics_outpatient.copy()  # make a copy to avoid warnings\n",
    "cosmetic_rate = sum(df_cosmetics_outpatient[\"UNPLANREADMISSION\"] == \"Yes\") / df_cosmetics_outpatient.shape[0] * 100\n",
    "\n",
    "readmission_rates[\"Cosmetic Surgery\"] = cosmetic_rate\n",
    "\n",
    "# Define the new order: Cosmetic Surgery first, then the rest\n",
    "new_order = [\"Cosmetic Surgery\"] + specialties\n",
    "readmission_rates = readmission_rates.reindex(new_order)\n",
    "\n",
    "# Define the colors: yellow for Cosmetic Surgery, skyblue for the rest\n",
    "colors = [\"yellow\"] + [\"skyblue\"] * len(specialties)\n",
    "\n",
    "\n",
    "# Create the bar graph\n",
    "plt.figure(figsize=(10, 6))\n",
    "bars = plt.bar(readmission_rates.index, readmission_rates.values, color=colors, edgecolor=\"black\")\n",
    "for bar in bars:\n",
    "    x = bar.get_x() + bar.get_width()/2\n",
    "    y = bar.get_height()\n",
    "    plt.annotate(f'{y:.2f}%', \n",
    "                 xy=(x, y), \n",
    "                 xytext=(0, 3),  # offset text 3 points above the bar\n",
    "                 textcoords=\"offset points\",\n",
    "                 ha='center', va='bottom')\n",
    "plt.xticks(fontsize=9) \n",
    "plt.xlabel(\"Surgical Specialty\")\n",
    "plt.ylabel(\"Readmission Rate (%)\")\n",
    "plt.title(\"Readmission Rate by Surgical Specialty\")\n",
    "plt.show()"
   ]
  },
  {
   "cell_type": "markdown",
   "id": "b57b8e5f",
   "metadata": {},
   "source": [
    "### Figure 2. Analyze unplanned readmission rates by most common plastics procedures"
   ]
  },
  {
   "cell_type": "markdown",
   "id": "86566c6f",
   "metadata": {},
   "source": [
    "#### Reproduction Uncertainty\n",
    "*How are the most common plastics procedures chosen? \n",
    "Some options:*\n",
    "- *By CPT code -- Principle CPT code vs. \"Concurrent\" vs. \"Other\"*\n",
    "    - *What if one case has multiple cosmetic CPT codes listed. Ex: abdominoplasty and liposuction*\n",
    "- *By the principle procedure column (PRNCPTX) -- Theoretically, should align with the principle CPT code.*\n"
   ]
  },
  {
   "cell_type": "code",
   "execution_count": 20,
   "id": "f5278e49",
   "metadata": {},
   "outputs": [
    {
     "name": "stdout",
     "output_type": "stream",
     "text": [
      "The top 5 most common outpatient cosmetic procedure by principle procedure column are:\n"
     ]
    },
    {
     "data": {
      "text/plain": [
       "PRNCPTX\n",
       "REDUCTION MAMMAPLASTY                              1501\n",
       "MAMMAPLASTY AUGMENTATION W/PROSTHETIC IMPLANT       430\n",
       "EXCISION SKIN ABD INFRAUMBILICAL PANNICULECTOMY     323\n",
       "MASTOPEXY                                           244\n",
       "EXCISION EXCESSIVE SKIN & SUBQ TISSUE ABDOMEN        45\n",
       "Name: count, dtype: int64"
      ]
     },
     "execution_count": 20,
     "metadata": {},
     "output_type": "execute_result"
    }
   ],
   "source": [
    "print(\"The top 5 most common outpatient cosmetic procedure by principle procedure column are:\")\n",
    "df_cosmetics_outpatient.PRNCPTX.value_counts()[:5]"
   ]
  },
  {
   "cell_type": "code",
   "execution_count": null,
   "id": "20a32f41",
   "metadata": {},
   "outputs": [],
   "source": [
    "# Mapping of procedures to sets of CPT codes\n",
    "procedure_codes = {\n",
    "    'liposuction': {'15876', '15877', '15878', '15879'},\n",
    "    'mastopexy': {'19316'},\n",
    "    'breast augmentation': {'19325'},\n",
    "    'breast reduction': {'19318'},\n",
    "    'abdominoplasty': {'15847', '15830'},\n",
    "    'rhinoplasty': {'30400', '30410', '30420', '30430', '30435', '30450'},\n",
    "    'brachioplasty': {'15836'},\n",
    "    'buttock lift': {'20926'},\n",
    "    'upper thigh lift': {'15832'},\n",
    "    'blepharoplasty': {'15820', '15821', '15822', '15823'}\n",
    "}\n",
    "\n",
    "# Reverse lookup: code -> procedure name\n",
    "reverse_map = {code: procedure for procedure, codes in procedure_codes.items() for code in codes}\n",
    "\n",
    "# Column groups in order of priority\n",
    "primary_col = 'CPT'\n",
    "concpt_cols = [f'CONCPT{i}' for i in range(1, 11)]\n",
    "othercpt_cols = [f'OTHERCPT{i}' for i in range(1, 11)]\n",
    "\n",
    "# Function to collect all matching procedures in a row\n",
    "def get_all_procedures(row):\n",
    "    \n",
    "    #check primary cpt code first\n",
    "    primary_code = str(row.get(primary_col, '')).strip()\n",
    "    primary_proc = reverse_map.get(primary_code)\n",
    "    \n",
    "    return[primary_proc]\n",
    "\n",
    "\n",
    "# Apply the function to get all procedures per patient\n",
    "df_cosmetics_outpatient['AllProcedures'] = df_cosmetics_outpatient.apply(get_all_procedures, axis=1)\n"
   ]
  },
  {
   "cell_type": "code",
   "execution_count": 22,
   "id": "5571162a",
   "metadata": {},
   "outputs": [],
   "source": [
    "df_cosmetics_outpatient['FinalProcedure'] = df_cosmetics_outpatient['AllProcedures'].apply(\n",
    "    lambda x: x[0] if isinstance(x, list) and len(x) > 0 else None\n",
    ")"
   ]
  },
  {
   "cell_type": "code",
   "execution_count": 23,
   "id": "c9859869",
   "metadata": {},
   "outputs": [
    {
     "name": "stdout",
     "output_type": "stream",
     "text": [
      "The top 5 most common outpatient cosmetic procedures by primary CPT code are:\n"
     ]
    },
    {
     "data": {
      "text/plain": [
       "FinalProcedure\n",
       "breast reduction       1501\n",
       "breast augmentation     430\n",
       "abdominoplasty          368\n",
       "mastopexy               244\n",
       "buttock lift             43\n",
       "Name: count, dtype: int64"
      ]
     },
     "execution_count": 23,
     "metadata": {},
     "output_type": "execute_result"
    }
   ],
   "source": [
    "print(\"The top 5 most common outpatient cosmetic procedures by primary CPT code are:\")\n",
    "df_cosmetics_outpatient.FinalProcedure.value_counts()[:5]"
   ]
  },
  {
   "cell_type": "markdown",
   "id": "03223fc7",
   "metadata": {},
   "source": [
    "To be consistent with previous decisions, we will use the primary CPT codes. The codes are sorted into the procedures of interest. \n",
    "\n",
    "- liposuction: 15876, 15877, 15878, 15879\n",
    "- mastopexy: 19316\n",
    "- breast augmentation: 19325\n",
    "- breast reduction: 19318\n",
    "- abdominoplasty: 15847, 15830\n",
    "- rhinoplasty: 30400, 30410, 30420, 30430, 30435, 30450\n",
    "- brachioplasty: 15836\n",
    "- buttock lift: 20926\n",
    "- upper thigh lift: 15832\n",
    "- blepharoplasty: 15820, 15821, 15822, 15823"
   ]
  },
  {
   "cell_type": "code",
   "execution_count": 24,
   "id": "b20f7245",
   "metadata": {},
   "outputs": [
    {
     "data": {
      "image/png": "[encoded data removed]",
      "text/plain": [
       "<Figure size 1000x600 with 1 Axes>"
      ]
     },
     "metadata": {},
     "output_type": "display_data"
    }
   ],
   "source": [
    "# Define the procedures of interest\n",
    "top_procedures = df_cosmetics_outpatient.FinalProcedure.value_counts()[:5].index.tolist()\n",
    "\n",
    "# Subset the DataFrame to only include rows for the specialties of interest\n",
    "df_subset = df_cosmetics_outpatient[df_cosmetics_outpatient[\"FinalProcedure\"].isin(top_procedures)].copy()\n",
    "\n",
    "assert df_subset.UNPLANREADMISSION.isna().sum() == 0\n",
    "\n",
    "# Calculate the readmission rate for each specialty:\n",
    "# Count rows with \"Yes\" and divide by the total rows in that specialty, then multiply by 100 for percentage.\n",
    "readmission_rates = df_subset.groupby(\"FinalProcedure\")[\"UNPLANREADMISSION\"].apply(\n",
    "    lambda x: (x == \"Yes\").sum() / len(x) * 100\n",
    ")\n",
    "\n",
    "# Reindex to ensure the order of the bars matches the desired specialty order\n",
    "readmission_rates = readmission_rates.reindex(top_procedures)\n",
    "\n",
    "\n",
    "# Create the bar graph\n",
    "plt.figure(figsize=(10, 6))\n",
    "bars = plt.bar(readmission_rates.index, readmission_rates.values, edgecolor=\"black\")\n",
    "for bar in bars:\n",
    "    x = bar.get_x() + bar.get_width()/2\n",
    "    y = bar.get_height()\n",
    "    plt.annotate(f'{y:.2f}%', \n",
    "                 xy=(x, y), \n",
    "                 xytext=(0, 3),  # offset text 3 points above the bar\n",
    "                 textcoords=\"offset points\",\n",
    "                 ha='center', va='bottom')\n",
    "plt.xticks(fontsize=9) \n",
    "plt.xlabel(\"Cosmetic Procedure\")\n",
    "plt.ylabel(\"Readmission Rate (%)\")\n",
    "plt.title(\"Readmission Rate by Most Common Cosmetic Procedure\")\n",
    "plt.show()"
   ]
  },
  {
   "cell_type": "markdown",
   "id": "8a324579",
   "metadata": {},
   "source": [
    "### Table 1: Analyze demographic data between readmitted and not readmitted groups\n"
   ]
  },
  {
   "cell_type": "markdown",
   "id": "bcc1cb63",
   "metadata": {},
   "source": [
    "Start with continuous variables (per Methods, use Student T-test)"
   ]
  },
  {
   "cell_type": "code",
   "execution_count": 25,
   "id": "76b9cc72",
   "metadata": {},
   "outputs": [],
   "source": [
    "final_table = []\n",
    "\n",
    "df_readmitted[\"Age\"] = pd.to_numeric(df_readmitted[\"Age\"], errors=\"coerce\")\n",
    "df_not_readmitted[\"Age\"] = pd.to_numeric(df_not_readmitted[\"Age\"], errors=\"coerce\")\n",
    "\n",
    "cont_columns = [\"Age\", \"BMI\"]\n",
    "\n",
    "cont_names = {\n",
    "    \"Age\": \"Age, mean ± SD, y\",\n",
    "    \"BMI\": \"BMI, mean ± SD\"\n",
    "}\n",
    "\n",
    "\n",
    "for cont_var in cont_columns:\n",
    "    stat_readmit = f\"{df_readmitted[cont_var].mean():.2f} ± {df_readmitted[cont_var].std():.2f}\"\n",
    "    stat_not_readmit = f\"{df_not_readmitted[cont_var].mean():.2f} ± {df_not_readmitted[cont_var].std():.2f}\"\n",
    "    p_value = ttest_ind(df_readmitted[cont_var], df_not_readmitted[cont_var]).pvalue\n",
    "    \n",
    "    p_str = f\"{p_value:.3f}\" + (\"*\" if p_value < 0.05 else \"\")\n",
    "    name = cont_names.get(cont_var, cont_var)\n",
    "    final_table.append([name, stat_readmit, stat_not_readmit, p_str])\n",
    "    "
   ]
  },
  {
   "cell_type": "markdown",
   "id": "ea51a457",
   "metadata": {},
   "source": [
    "Add categorical variables (per Methods, use chi squared)"
   ]
  },
  {
   "cell_type": "code",
   "execution_count": 26,
   "id": "45444a25",
   "metadata": {},
   "outputs": [],
   "source": [
    "cat_columns = [\"DIABETES_BINARY\", \"HYPERMED\", \"SMOKE\", \"ETOH\", \"DYSPNEA_BINARY\", \"CORONARY_BINARY\", \"BRAIN_BINARY\", \"ASACLAS_BINARY\"]\n",
    "cat_names = {\n",
    "    \"DIABETES_BINARY\": \"Diabetes\",\n",
    "    \"HYPERMED\": \"Hypertension\",\n",
    "    \"SMOKE\": \"Smoking\",\n",
    "    \"ETOH\": \"Alcohol Use\",\n",
    "    \"DYSPNEA_BINARY\": \"Dyspnea\",\n",
    "    \"CORONARY_BINARY\": \"Coronary Disease\",\n",
    "    \"BRAIN_BINARY\": \"Cerebrovascular disease\",\n",
    "    \"ASACLAS_BINARY\": \"ASA class 3 or 4\"\n",
    "}\n",
    "\n",
    "for cat in cat_columns:\n",
    "        \n",
    "    assert df_readmitted[cat].isna().sum() == 0\n",
    "    assert df_not_readmitted[cat].isna().sum() == 0\n",
    "    \n",
    "    readmit_yes = sum( df_readmitted[cat] == \"Yes\" )\n",
    "    readmit_total = df_readmitted[cat].shape[0]\n",
    "    not_readmit_yes = sum( df_not_readmitted[cat] == \"Yes\" )\n",
    "    not_readmit_total = df_not_readmitted[cat].shape[0]\n",
    "    \n",
    "    perc_readmitted = f\"{(readmit_yes / readmit_total) * 100:.2f}\"\n",
    "    perc_not_readmitted = f\"{(not_readmit_yes / not_readmit_total) * 100:.2f}\"\n",
    "    \n",
    "    contingency_table = [[readmit_yes, readmit_total - readmit_yes],\n",
    "                         [not_readmit_yes, not_readmit_total - not_readmit_yes]]\n",
    "\n",
    "    if readmit_yes == 0 or not_readmit_yes == 0:\n",
    "        p_value = 1.00\n",
    "    else:    \n",
    "        p_value = chi2_contingency(contingency_table)[1]\n",
    "    \n",
    "    p_str = f\"{p_value:.3f}\" + (\"*\" if p_value < 0.05 else \"\")\n",
    "    name = cat_names.get(cat, cat)\n",
    "    final_table.append([name, perc_readmitted, perc_not_readmitted, p_str])"
   ]
  },
  {
   "cell_type": "code",
   "execution_count": 27,
   "id": "293420c3",
   "metadata": {},
   "outputs": [
    {
     "data": {
      "text/html": [
       "<div>\n",
       "<style scoped>\n",
       "    .dataframe tbody tr th:only-of-type {\n",
       "        vertical-align: middle;\n",
       "    }\n",
       "\n",
       "    .dataframe tbody tr th {\n",
       "        vertical-align: top;\n",
       "    }\n",
       "\n",
       "    .dataframe thead th {\n",
       "        text-align: right;\n",
       "    }\n",
       "</style>\n",
       "<table border=\"1\" class=\"dataframe\">\n",
       "  <thead>\n",
       "    <tr style=\"text-align: right;\">\n",
       "      <th></th>\n",
       "      <th>Characteristic</th>\n",
       "      <th>Readmitted (n= 27)</th>\n",
       "      <th>Not Readmitted (n= 1274)</th>\n",
       "      <th>P-Value</th>\n",
       "    </tr>\n",
       "  </thead>\n",
       "  <tbody>\n",
       "    <tr>\n",
       "      <th>0</th>\n",
       "      <td>Age, mean ± SD, y</td>\n",
       "      <td>49.15 ± 12.92</td>\n",
       "      <td>44.24 ± 13.70</td>\n",
       "      <td>0.065</td>\n",
       "    </tr>\n",
       "    <tr>\n",
       "      <th>1</th>\n",
       "      <td>BMI, mean ± SD</td>\n",
       "      <td>34.38 ± 9.30</td>\n",
       "      <td>28.74 ± 6.21</td>\n",
       "      <td>0.000*</td>\n",
       "    </tr>\n",
       "    <tr>\n",
       "      <th>2</th>\n",
       "      <td>Diabetes</td>\n",
       "      <td>7.41</td>\n",
       "      <td>4.32</td>\n",
       "      <td>0.763</td>\n",
       "    </tr>\n",
       "    <tr>\n",
       "      <th>3</th>\n",
       "      <td>Hypertension</td>\n",
       "      <td>40.74</td>\n",
       "      <td>21.27</td>\n",
       "      <td>0.028*</td>\n",
       "    </tr>\n",
       "    <tr>\n",
       "      <th>4</th>\n",
       "      <td>Smoking</td>\n",
       "      <td>11.11</td>\n",
       "      <td>9.18</td>\n",
       "      <td>0.995</td>\n",
       "    </tr>\n",
       "    <tr>\n",
       "      <th>5</th>\n",
       "      <td>Alcohol Use</td>\n",
       "      <td>3.70</td>\n",
       "      <td>1.02</td>\n",
       "      <td>0.693</td>\n",
       "    </tr>\n",
       "    <tr>\n",
       "      <th>6</th>\n",
       "      <td>Dyspnea</td>\n",
       "      <td>7.41</td>\n",
       "      <td>1.49</td>\n",
       "      <td>0.101</td>\n",
       "    </tr>\n",
       "    <tr>\n",
       "      <th>7</th>\n",
       "      <td>Coronary Disease</td>\n",
       "      <td>7.41</td>\n",
       "      <td>0.94</td>\n",
       "      <td>0.023*</td>\n",
       "    </tr>\n",
       "    <tr>\n",
       "      <th>8</th>\n",
       "      <td>Cerebrovascular disease</td>\n",
       "      <td>0.00</td>\n",
       "      <td>0.63</td>\n",
       "      <td>1.000</td>\n",
       "    </tr>\n",
       "    <tr>\n",
       "      <th>9</th>\n",
       "      <td>ASA class 3 or 4</td>\n",
       "      <td>33.33</td>\n",
       "      <td>11.85</td>\n",
       "      <td>0.002*</td>\n",
       "    </tr>\n",
       "  </tbody>\n",
       "</table>\n",
       "</div>"
      ],
      "text/plain": [
       "            Characteristic Readmitted (n= 27) Not Readmitted (n= 1274) P-Value\n",
       "0        Age, mean ± SD, y      49.15 ± 12.92            44.24 ± 13.70   0.065\n",
       "1           BMI, mean ± SD       34.38 ± 9.30             28.74 ± 6.21  0.000*\n",
       "2                 Diabetes               7.41                     4.32   0.763\n",
       "3             Hypertension              40.74                    21.27  0.028*\n",
       "4                  Smoking              11.11                     9.18   0.995\n",
       "5              Alcohol Use               3.70                     1.02   0.693\n",
       "6                  Dyspnea               7.41                     1.49   0.101\n",
       "7         Coronary Disease               7.41                     0.94  0.023*\n",
       "8  Cerebrovascular disease               0.00                     0.63   1.000\n",
       "9         ASA class 3 or 4              33.33                    11.85  0.002*"
      ]
     },
     "execution_count": 27,
     "metadata": {},
     "output_type": "execute_result"
    }
   ],
   "source": [
    "final_table_df = pd.DataFrame(\n",
    "    final_table, \n",
    "    columns=[\"Characteristic\", f\"Readmitted (n= {df_readmitted.shape[0]})\", f\"Not Readmitted (n= {df_not_readmitted.shape[0]})\", \"P-Value\"]\n",
    ")\n",
    "\n",
    "final_table_df"
   ]
  },
  {
   "cell_type": "markdown",
   "id": "db0f4080",
   "metadata": {},
   "source": [
    "### Table 2: Analyze outcomes between readmitted and not readmitted groups\n"
   ]
  },
  {
   "cell_type": "code",
   "execution_count": 28,
   "id": "b2d07605",
   "metadata": {},
   "outputs": [],
   "source": [
    "comp_table = []\n",
    "\n",
    "comp_cat_columns = [\"TOTAL_COMPLICATION\", \"SURG_COMPLICATION\",\"SUPINFEC_BINARY\", \"WNDINFD_BINARY\", \"ORGSPCSSI_BINARY\", \n",
    "                    \"DEHIS_BINARY\", \"MED_COMPLICATION\", \"REOPERATION\"]\n",
    "comp_cat_names = {\n",
    "    \"TOTAL_COMPLICATION\": \"Total complications\",\n",
    "    \"SURG_COMPLICATION\": \"Surgical complications\",\n",
    "    \"SUPINFEC_BINARY\": \"Superficial SSI\",\n",
    "    \"WNDINFD_BINARY\": \"Deep SSI\",\n",
    "    \"ORGSPCSSI_BINARY\": \"Organ/space SSI\",\n",
    "    \"DEHIS_BINARY\": \"Wound dehiscence\",\n",
    "    \"MED_COMPLICATION\": \"Medical complications\",\n",
    "    \"REOPERATION\": \"Reoperation\"\n",
    "}\n",
    "\n",
    "for cat in comp_cat_columns:\n",
    "    \n",
    "    readmit_yes = sum( df_readmitted[cat] == \"Yes\" )\n",
    "    readmit_total = df_readmitted[cat].shape[0]\n",
    "    not_readmit_yes = sum( df_not_readmitted[cat] == \"Yes\" )\n",
    "    not_readmit_total = df_not_readmitted[cat].shape[0]\n",
    "    \n",
    "    perc_readmitted = f\"{(readmit_yes / readmit_total) * 100:.2f}\"\n",
    "    perc_not_readmitted = f\"{(not_readmit_yes / not_readmit_total) * 100:.2f}\"\n",
    "    \n",
    "    contingency_table = [[readmit_yes, readmit_total - readmit_yes],\n",
    "                         [not_readmit_yes, not_readmit_total - not_readmit_yes]]\n",
    "\n",
    "    if readmit_yes == 0 or not_readmit_yes == 0:\n",
    "        p_value = 1.00\n",
    "    else:    \n",
    "        p_value = chi2_contingency(contingency_table)[1]\n",
    "\n",
    "    p_str = f\"{p_value:.3f}\" + (\"*\" if p_value < 0.05 else \"\")\n",
    "    name = comp_cat_names.get(cat, cat)\n",
    "    comp_table.append([name, perc_readmitted, perc_not_readmitted, p_str])"
   ]
  },
  {
   "cell_type": "code",
   "execution_count": 29,
   "id": "858e9a68",
   "metadata": {},
   "outputs": [
    {
     "data": {
      "text/html": [
       "<div>\n",
       "<style scoped>\n",
       "    .dataframe tbody tr th:only-of-type {\n",
       "        vertical-align: middle;\n",
       "    }\n",
       "\n",
       "    .dataframe tbody tr th {\n",
       "        vertical-align: top;\n",
       "    }\n",
       "\n",
       "    .dataframe thead th {\n",
       "        text-align: right;\n",
       "    }\n",
       "</style>\n",
       "<table border=\"1\" class=\"dataframe\">\n",
       "  <thead>\n",
       "    <tr style=\"text-align: right;\">\n",
       "      <th></th>\n",
       "      <th>Characteristic</th>\n",
       "      <th>Readmitted (n= 27), %</th>\n",
       "      <th>Not Readmitted (n= 1274), %</th>\n",
       "      <th>P-Value</th>\n",
       "    </tr>\n",
       "  </thead>\n",
       "  <tbody>\n",
       "    <tr>\n",
       "      <th>0</th>\n",
       "      <td>Total complications</td>\n",
       "      <td>74.07</td>\n",
       "      <td>3.69</td>\n",
       "      <td>0.000*</td>\n",
       "    </tr>\n",
       "    <tr>\n",
       "      <th>1</th>\n",
       "      <td>Surgical complications</td>\n",
       "      <td>44.44</td>\n",
       "      <td>2.90</td>\n",
       "      <td>0.000*</td>\n",
       "    </tr>\n",
       "    <tr>\n",
       "      <th>2</th>\n",
       "      <td>Wound infection</td>\n",
       "      <td>-</td>\n",
       "      <td>-</td>\n",
       "      <td>-</td>\n",
       "    </tr>\n",
       "    <tr>\n",
       "      <th>3</th>\n",
       "      <td>Superficial SSI</td>\n",
       "      <td>22.22</td>\n",
       "      <td>2.59</td>\n",
       "      <td>0.000*</td>\n",
       "    </tr>\n",
       "    <tr>\n",
       "      <th>4</th>\n",
       "      <td>Deep SSI</td>\n",
       "      <td>18.52</td>\n",
       "      <td>0.16</td>\n",
       "      <td>0.000*</td>\n",
       "    </tr>\n",
       "    <tr>\n",
       "      <th>5</th>\n",
       "      <td>Organ/space SSI</td>\n",
       "      <td>0.00</td>\n",
       "      <td>0.00</td>\n",
       "      <td>1.000</td>\n",
       "    </tr>\n",
       "    <tr>\n",
       "      <th>6</th>\n",
       "      <td>Wound dehiscence</td>\n",
       "      <td>3.70</td>\n",
       "      <td>0.16</td>\n",
       "      <td>0.076</td>\n",
       "    </tr>\n",
       "    <tr>\n",
       "      <th>7</th>\n",
       "      <td>Medical complications</td>\n",
       "      <td>29.63</td>\n",
       "      <td>0.47</td>\n",
       "      <td>0.000*</td>\n",
       "    </tr>\n",
       "    <tr>\n",
       "      <th>8</th>\n",
       "      <td>Reoperation</td>\n",
       "      <td>37.04</td>\n",
       "      <td>0.39</td>\n",
       "      <td>0.000*</td>\n",
       "    </tr>\n",
       "  </tbody>\n",
       "</table>\n",
       "</div>"
      ],
      "text/plain": [
       "           Characteristic Readmitted (n= 27), % Not Readmitted (n= 1274), %  \\\n",
       "0     Total complications                 74.07                        3.69   \n",
       "1  Surgical complications                 44.44                        2.90   \n",
       "2         Wound infection                     -                           -   \n",
       "3         Superficial SSI                 22.22                        2.59   \n",
       "4                Deep SSI                 18.52                        0.16   \n",
       "5         Organ/space SSI                  0.00                        0.00   \n",
       "6        Wound dehiscence                  3.70                        0.16   \n",
       "7   Medical complications                 29.63                        0.47   \n",
       "8             Reoperation                 37.04                        0.39   \n",
       "\n",
       "  P-Value  \n",
       "0  0.000*  \n",
       "1  0.000*  \n",
       "2       -  \n",
       "3  0.000*  \n",
       "4  0.000*  \n",
       "5   1.000  \n",
       "6   0.076  \n",
       "7  0.000*  \n",
       "8  0.000*  "
      ]
     },
     "execution_count": 29,
     "metadata": {},
     "output_type": "execute_result"
    }
   ],
   "source": [
    "final_table_df = pd.DataFrame(\n",
    "    comp_table, \n",
    "    columns=[\"Characteristic\", f\"Readmitted (n= {df_readmitted.shape[0]}), %\", f\"Not Readmitted (n= {df_not_readmitted.shape[0]}), %\", \"P-Value\"]\n",
    ")\n",
    "\n",
    "new_row = pd.DataFrame({\n",
    "    \"Characteristic\": [\"Wound infection\"],\n",
    "    f\"Readmitted (n= {df_readmitted.shape[0]}), %\": ['-'],\n",
    "    f\"Not Readmitted (n= {df_not_readmitted.shape[0]}), %\": ['-'],\n",
    "    \"P-Value\": ['-']\n",
    "})\n",
    "\n",
    "\n",
    "df_updated = pd.concat([final_table_df.iloc[:2], new_row, final_table_df.iloc[2:]], ignore_index=True)\n",
    "df_updated"
   ]
  },
  {
   "cell_type": "markdown",
   "id": "952c5a8d",
   "metadata": {},
   "source": [
    "## Excerpt from Methods\n",
    "### Statistical Analysis (continued)\n",
    "\n",
    "Multivariate logistic regression models were used to determine predictors of unplanned readmission. Individual variables with ≥10 event occurrences showing prediction of readmission at a significance level of ≤0.20 in bivariate analysis were included in the multivariable models. "
   ]
  },
  {
   "cell_type": "markdown",
   "id": "3524523e",
   "metadata": {},
   "source": [
    "#### Reproduction Uncertainty\n",
    "*Methods does not specify which variables were used in the initial bivariate logistic regression screening step. In the Results, two variables -- Obesity (BMI>=30) and operating time (hours) were found to be singificant in the initial screen.*\n",
    "\n",
    "**Decision:** Investigator A chose to skip the screening step, and use obesity and operating time for a final multivariate regression model. "
   ]
  },
  {
   "cell_type": "markdown",
   "id": "96aba356",
   "metadata": {},
   "source": [
    "#### **1. Identify and clean varaibles.**"
   ]
  },
  {
   "cell_type": "code",
   "execution_count": 30,
   "id": "ee4eabf4",
   "metadata": {},
   "outputs": [],
   "source": [
    "df_combined_clean = pd.concat([df_readmitted, df_not_readmitted])\n",
    "assert df_combined_clean.UNPLANREADMISSION.isna().sum() == 0"
   ]
  },
  {
   "cell_type": "markdown",
   "id": "a2f6db3e",
   "metadata": {},
   "source": [
    "Create an obesity column based on BMI >= 30"
   ]
  },
  {
   "cell_type": "code",
   "execution_count": 31,
   "id": "f32b5857",
   "metadata": {},
   "outputs": [],
   "source": [
    "df_combined_clean = df_combined_clean.copy()\n",
    "df_combined_clean.loc[:, \"OBESITY_BINARY\"] = np.where(\n",
    "    df_combined_clean[\"BMI\"] >= 30,\n",
    "    \"Yes\",\n",
    "    \"No\"\n",
    ")"
   ]
  },
  {
   "cell_type": "markdown",
   "id": "29c4ee3f",
   "metadata": {},
   "source": [
    "Convert operating time (OPTIME) from minutes to hours. "
   ]
  },
  {
   "cell_type": "code",
   "execution_count": 32,
   "id": "5852c248",
   "metadata": {},
   "outputs": [],
   "source": [
    "df_combined_clean[\"OPTIME_HRS\"] = df_combined_clean.OPTIME / 60"
   ]
  },
  {
   "cell_type": "markdown",
   "id": "037a87cb",
   "metadata": {},
   "source": [
    "#### **2. Create a multivariate logistic regression model using obesity and operating time**"
   ]
  },
  {
   "cell_type": "code",
   "execution_count": 33,
   "id": "b8070f5a",
   "metadata": {},
   "outputs": [
    {
     "name": "stdout",
     "output_type": "stream",
     "text": [
      "Optimization terminated successfully.\n",
      "         Current function value: 0.098365\n",
      "         Iterations 8\n",
      "                           Logit Regression Results                           \n",
      "==============================================================================\n",
      "Dep. Variable:     READMISSION_BINARY   No. Observations:                 1301\n",
      "Model:                          Logit   Df Residuals:                     1298\n",
      "Method:                           MLE   Df Model:                            2\n",
      "Date:                Tue, 25 Feb 2025   Pseudo R-squ.:                 0.02567\n",
      "Time:                        12:43:50   Log-Likelihood:                -127.97\n",
      "converged:                       True   LL-Null:                       -131.34\n",
      "Covariance Type:            nonrobust   LLR p-value:                   0.03433\n",
      "==================================================================================\n",
      "                     coef    std err          z      P>|z|      [0.025      0.975]\n",
      "----------------------------------------------------------------------------------\n",
      "const             -4.3141      0.491     -8.782      0.000      -5.277      -3.351\n",
      "OBESITY_BINARY     1.0315      0.410      2.519      0.012       0.229       1.834\n",
      "OPTIME_HRS        -0.0245      0.167     -0.147      0.883      -0.352       0.303\n",
      "==================================================================================\n"
     ]
    }
   ],
   "source": [
    "# Define outcome and predictors\n",
    "df_combined_clean[\"READMISSION_BINARY\"] = np.where(df_combined_clean[\"UNPLANREADMISSION\"] == \"Yes\", 1, 0)\n",
    "\n",
    "y = df_combined_clean[\"READMISSION_BINARY\"]\n",
    "\n",
    "df_combined_clean[\"OBESITY_BINARY\"] = np.where(df_combined_clean[\"OBESITY_BINARY\"] == \"Yes\", 1, 0)\n",
    "\n",
    "X = df_combined_clean[[\"OBESITY_BINARY\", \"OPTIME_HRS\"]]  \n",
    "\n",
    "X = sm.add_constant(X)\n",
    "\n",
    "# Fit logistic regression\n",
    "model = sm.Logit(y, X).fit()\n",
    "print(model.summary())"
   ]
  },
  {
   "cell_type": "code",
   "execution_count": 34,
   "id": "2bc3a3ac",
   "metadata": {},
   "outputs": [
    {
     "name": "stdout",
     "output_type": "stream",
     "text": [
      "Logistic regression analysis showed that obesity significantly increased the odds of unplanned readmission, with a coefficient of 1.0315 (p = 0.012) and an odds ratio of approximately 2.81. This means that patients with obesity are 2.81 times more likely to be readmitted. In contrast, operative time was not a significant predictor of readmission (coefficient = -0.0245, p = 0.883). Finally, the model’s low Pseudo R-squared value (0.0257) indicates that only about 2.57% of the variation in readmission is explained by these predictors, suggesting that many other factors contribute to the risk of readmission.\n"
     ]
    }
   ],
   "source": [
    "summary_text = (\n",
    "    \"Logistic regression analysis showed that obesity significantly increased the odds of unplanned readmission, \"\n",
    "    f\"with a coefficient of {model.params['OBESITY_BINARY']:.4f} (p = {model.pvalues['OBESITY_BINARY']:.3f}) \"\n",
    "    f\"and an odds ratio of approximately {np.exp(model.params['OBESITY_BINARY']):.2f}. \"\n",
    "    \"This means that patients with obesity are \"\n",
    "    f\"{np.exp(model.params['OBESITY_BINARY']):.2f} times more likely to be readmitted. \"\n",
    "    \"In contrast, operative time was not a significant predictor of readmission \"\n",
    "    f\"(coefficient = {model.params['OPTIME_HRS']:.4f}, p = {model.pvalues['OPTIME_HRS']:.3f}). \"\n",
    "    f\"Finally, the model’s low Pseudo R-squared value ({model.prsquared:.4f}) \"\n",
    "    f\"indicates that only about {model.prsquared * 100:.2f}% of the variation in readmission \"\n",
    "    \"is explained by these predictors, suggesting that many other factors contribute to the risk of readmission.\"\n",
    ")\n",
    "print(summary_text)\n"
   ]
  },
  {
   "cell_type": "code",
   "execution_count": null,
   "id": "c3c498e4",
   "metadata": {},
   "outputs": [],
   "source": []
  }
 ],
 "metadata": {
  "kernelspec": {
   "display_name": "Python 3 (ipykernel)",
   "language": "python",
   "name": "python3"
  },
  "language_info": {
   "codemirror_mode": {
    "name": "ipython",
    "version": 3
   },
   "file_extension": ".py",
   "mimetype": "text/x-python",
   "name": "python",
   "nbconvert_exporter": "python",
   "pygments_lexer": "ipython3",
   "version": "3.11.5"
  }
 },
 "nbformat": 4,
 "nbformat_minor": 5
}
